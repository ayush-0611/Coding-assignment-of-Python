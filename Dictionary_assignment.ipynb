{
 "cells": [
  {
   "cell_type": "code",
   "execution_count": 4,
   "metadata": {},
   "outputs": [
    {
     "name": "stdout",
     "output_type": "stream",
     "text": [
      "enter namea\n",
      "enter nameb\n",
      "enter named\n",
      "enter namef\n",
      "enter namee\n",
      "enter namer\n",
      "enter nameg\n",
      "enter nameh\n",
      "enter namet\n",
      "enter namey\n",
      "{'a': 0, 'b': 1, 'd': 2, 'f': 3, 'e': 4, 'r': 5, 'g': 6, 'h': 7, 't': 8, 'y': 9}\n",
      "{0: 'a', 1: 'b', 2: 'd', 3: 'f', 4: 'e', 5: 'r', 6: 'g', 7: 'h', 8: 't', 9: 'y'}\n"
     ]
    }
   ],
   "source": [
    "d={}\n",
    "i=1\n",
    "for i in range(10):\n",
    "    n=input(\"enter name\")\n",
    "    d[n]=i\n",
    "    i+=1\n",
    "    \n",
    "l_list = list(d.values())\n",
    "key_list=list(d.keys())\n",
    "print(d)\n",
    "d.clear()\n",
    "for i in range(10):\n",
    "    d[l_list[i]]=key_list[i]\n",
    "    \n",
    "    \n",
    "print(d)"
   ]
  },
  {
   "cell_type": "code",
   "execution_count": null,
   "metadata": {},
   "outputs": [],
   "source": []
  },
  {
   "cell_type": "code",
   "execution_count": null,
   "metadata": {},
   "outputs": [],
   "source": []
  },
  {
   "cell_type": "code",
   "execution_count": null,
   "metadata": {},
   "outputs": [],
   "source": []
  },
  {
   "cell_type": "code",
   "execution_count": null,
   "metadata": {},
   "outputs": [],
   "source": []
  }
 ],
 "metadata": {
  "kernelspec": {
   "display_name": "Python 3",
   "language": "python",
   "name": "python3"
  },
  "language_info": {
   "codemirror_mode": {
    "name": "ipython",
    "version": 3
   },
   "file_extension": ".py",
   "mimetype": "text/x-python",
   "name": "python",
   "nbconvert_exporter": "python",
   "pygments_lexer": "ipython3",
   "version": "3.7.6"
  }
 },
 "nbformat": 4,
 "nbformat_minor": 4
}
